{
 "cells": [
  {
   "cell_type": "markdown",
   "id": "6a2cc3ec",
   "metadata": {},
   "source": [
    "----\n",
    "### Key Takeaways\n",
    "By the end of this module, you will gain a comprehensive understanding of sentiment analysis techniques, be able to preprocess text data effectively, build and evaluate sentiment analysis models using both traditional machine learning algorithms and deep learning techniques, and apply these skills to real-world NLP tasks.\n",
    "\n",
    "----"
   ]
  },
  {
   "cell_type": "markdown",
   "id": "01f25262",
   "metadata": {},
   "source": [
    "### Introduction to NLP\n",
    "- Understanding Natural Language Processing (NLP) and its applications.\n",
    "- Overview of NLP techniques for text analysis and understanding.\n",
    "- Importance of sentiment analysis in understanding customer opinions and feedback.\n",
    "- -----\n",
    "\n",
    "[link](https://www.me.com)"
   ]
  },
  {
   "cell_type": "markdown",
   "id": "c61d45d7",
   "metadata": {},
   "source": [
    "### Text Preprocessing\n",
    "- __Tokenization:__ Breaking down text into smaller units such as words or sentences.\n",
    "- __Stopword Removal:__ Removing common words (e.g., \"the\", \"is\", \"and\") that do not carry significant meaning.\n",
    "- __Lemmatization:__ Reducing words to their base or root form (e.g., \"running\" to \"run\", \"better\" to \"good\").\n",
    "- ----"
   ]
  },
  {
   "cell_type": "markdown",
   "id": "db8e5384",
   "metadata": {},
   "source": [
    "#### Bag of Words Model\n",
    "\n",
    "- Introduction to the Bag of Words (BoW) model.\n",
    "- Creating a vocabulary of unique words from the text corpus.\n",
    "- Representing text documents as numerical vectors based on word frequency.\n",
    "- -----"
   ]
  },
  {
   "cell_type": "markdown",
   "id": "7674adf2",
   "metadata": {},
   "source": [
    "\n",
    "#### Naive Bayes Classifier\n",
    "\n",
    "- Understanding the Naive Bayes algorithm for text classification.\n",
    "- Training a Naive Bayes classifier using labeled data for sentiment analysis.\n",
    "- Evaluating the classifier performance using accuracy, precision, recall, and F1-score.\n",
    "-------\n",
    "#### LSTM (Long Short-Term Memory) Model\n",
    "\n",
    "- Introduction to Recurrent Neural Networks (RNNs) and LSTM architecture.\n",
    "- Preprocessing text data for LSTM input.\n",
    "- Building and training an LSTM model for sentiment analysis.\n",
    "- Fine-tuning the model and optimizing hyperparameters.\n",
    "- Evaluating the LSTM model performance and comparing it with traditional methods.\n",
    "--------"
   ]
  },
  {
   "cell_type": "markdown",
   "id": "85c0b6a6",
   "metadata": {},
   "source": [
    "### Practical Applications and Case Studies"
   ]
  },
  {
   "cell_type": "markdown",
   "id": "521649bf",
   "metadata": {},
   "source": [
    "- Sentiment analysis on customer reviews for products or services.\n",
    "- Analyzing social media sentiments for brand perception.\n",
    "- Understanding public opinions on political or social issues through text analysis.\n",
    "- -----"
   ]
  },
  {
   "cell_type": "markdown",
   "id": "6556430d",
   "metadata": {},
   "source": [
    "### Libraries"
   ]
  },
  {
   "cell_type": "code",
   "execution_count": 77,
   "id": "15f88ef9",
   "metadata": {},
   "outputs": [],
   "source": [
    "import numpy as np\n",
    "import matplotlib.pyplot as plt\n",
    "import pandas as pd\n",
    "\n",
    "import re\n",
    "import nltk # NLP toolkit\n",
    "# nltk.download('stopwords')\n",
    "from nltk.corpus import stopwords\n",
    "from nltk.stem.porter import PorterStemmer\n",
    "from nltk.stem import WordNetLemmatizer\n",
    "\n",
    "from nltk.sentiment.vader import SentimentIntensityAnalyzer\n",
    "from nltk.tokenize import word_tokenize\n",
    "import string\n",
    "from collections import Counter\n",
    "\n",
    "# Download NLTK resources if not already downloaded\n",
    "# nltk.download('punkt')\n",
    "# nltk.download('stopwords')\n",
    "# nltk.download('wordnet')\n",
    "# nltk.download('vader_lexicon')\n",
    "\n",
    "import warnings\n",
    "warnings.simplefilter('ignore', category=Warning, lineno=0, append=False)"
   ]
  },
  {
   "cell_type": "markdown",
   "id": "de5bea3c",
   "metadata": {},
   "source": [
    "### Preprocess Text Data"
   ]
  },
  {
   "cell_type": "code",
   "execution_count": 78,
   "id": "d3945fb0",
   "metadata": {},
   "outputs": [],
   "source": [
    "# Load the text\n",
    "text_data = [\n",
    "    \"Wow... Loved this place.\",\n",
    "    \"Crust is not good.\",\n",
    "    \"Not tasty and the texture was just nasty.\",\n",
    "    \"Stopped by during the late May bank holiday of...\",\n",
    "    \"The selection on the menu was great and so wer...\"\n",
    "]"
   ]
  },
  {
   "cell_type": "markdown",
   "id": "106a0fa0-e691-48ab-bbfb-79685b45c6d5",
   "metadata": {},
   "source": [
    "#### 1. Convert text to lowercase"
   ]
  },
  {
   "cell_type": "code",
   "execution_count": 79,
   "id": "81219cdc-4990-4320-93d8-41cfeb7c9921",
   "metadata": {},
   "outputs": [
    {
     "data": {
      "text/plain": [
       "['wow... loved this place.',\n",
       " 'crust is not good.',\n",
       " 'not tasty and the texture was just nasty.',\n",
       " 'stopped by during the late may bank holiday of...',\n",
       " 'the selection on the menu was great and so wer...']"
      ]
     },
     "execution_count": 79,
     "metadata": {},
     "output_type": "execute_result"
    }
   ],
   "source": [
    "text_lower = [text.lower() for text in text_data]\n",
    "text_lower"
   ]
  },
  {
   "cell_type": "markdown",
   "id": "539d48fa-6c13-4aa9-a850-18c17fb37857",
   "metadata": {},
   "source": [
    "#### 2. Remove Punctuation"
   ]
  },
  {
   "cell_type": "code",
   "execution_count": 80,
   "id": "8f37bfd3-a90f-4d28-a419-15df1e6b77a3",
   "metadata": {},
   "outputs": [],
   "source": [
    "text_punc = [text.translate(str.maketrans('', '', string.punctuation)) for text in text_lower]"
   ]
  },
  {
   "cell_type": "markdown",
   "id": "c1758ab9",
   "metadata": {},
   "source": [
    "#### 3. Tokenize"
   ]
  },
  {
   "cell_type": "code",
   "execution_count": 81,
   "id": "a0fcd65b",
   "metadata": {},
   "outputs": [
    {
     "data": {
      "text/plain": [
       "[['wow', 'loved', 'this', 'place'],\n",
       " ['crust', 'is', 'not', 'good'],\n",
       " ['not', 'tasty', 'and', 'the', 'texture', 'was', 'just', 'nasty'],\n",
       " ['stopped', 'by', 'during', 'the', 'late', 'may', 'bank', 'holiday', 'of'],\n",
       " ['the', 'selection', 'on', 'the', 'menu', 'was', 'great', 'and', 'so', 'wer']]"
      ]
     },
     "execution_count": 81,
     "metadata": {},
     "output_type": "execute_result"
    }
   ],
   "source": [
    "# Tokenize, using list comprehension\n",
    "tokenized_data = [nltk.word_tokenize(text) for text in text_punc]\n",
    "tokenized_data"
   ]
  },
  {
   "cell_type": "markdown",
   "id": "089927d8-d3a8-4b99-91a8-c57c7352a8c4",
   "metadata": {},
   "source": [
    "#### 4. Stopwords"
   ]
  },
  {
   "cell_type": "code",
   "execution_count": 82,
   "id": "79aac847-0be7-49e3-9baf-0a095e4ce5be",
   "metadata": {},
   "outputs": [],
   "source": [
    "english_stopwords = set(stopwords.words('english'))"
   ]
  },
  {
   "cell_type": "markdown",
   "id": "a18fa4a6",
   "metadata": {},
   "source": [
    "#### 5. Remove stopwords"
   ]
  },
  {
   "cell_type": "code",
   "execution_count": 83,
   "id": "b697350b",
   "metadata": {},
   "outputs": [
    {
     "data": {
      "text/plain": [
       "[['wow', 'loved', 'place'],\n",
       " ['crust', 'good'],\n",
       " ['tasty', 'texture', 'nasty'],\n",
       " ['stopped', 'late', 'may', 'bank', 'holiday'],\n",
       " ['selection', 'menu', 'great', 'wer']]"
      ]
     },
     "execution_count": 83,
     "metadata": {},
     "output_type": "execute_result"
    }
   ],
   "source": [
    "# Remove stopwords\n",
    "filtered_data = [[word for word in text if word not in english_stopwords] for text in tokenized_data]\n",
    "filtered_data"
   ]
  },
  {
   "cell_type": "markdown",
   "id": "14235dd8-0e4d-4ac9-9bfa-eb410a93e32b",
   "metadata": {},
   "source": [
    "#### 6. Lemmatization"
   ]
  },
  {
   "cell_type": "code",
   "execution_count": 84,
   "id": "cdc8a43d-426f-459d-a3b2-508f71e8b9dc",
   "metadata": {},
   "outputs": [
    {
     "data": {
      "text/plain": [
       "[['wow', 'loved', 'place'],\n",
       " ['crust', 'good'],\n",
       " ['tasty', 'texture', 'nasty'],\n",
       " ['stopped', 'late', 'may', 'bank', 'holiday'],\n",
       " ['selection', 'menu', 'great', 'wer']]"
      ]
     },
     "execution_count": 84,
     "metadata": {},
     "output_type": "execute_result"
    }
   ],
   "source": [
    "filtered_data"
   ]
  },
  {
   "cell_type": "code",
   "execution_count": 85,
   "id": "c68e7fac-779a-42ec-81c2-fccfc803f733",
   "metadata": {},
   "outputs": [
    {
     "data": {
      "text/plain": [
       "['cat', 'are', 'running', 'on', 'the', 'road']"
      ]
     },
     "execution_count": 85,
     "metadata": {},
     "output_type": "execute_result"
    }
   ],
   "source": [
    "# Instantiate Lemmatizer\n",
    "lm = WordNetLemmatizer()\n",
    "\n",
    "\n",
    "text = \"cats are running on the roads\"\n",
    "\n",
    "# Tokenize the text\n",
    "tokens = word_tokenize(text)\n",
    "\n",
    "# Lemmatize each token\n",
    "lemmatized_tokens = [lm.lemmatize(token) for token in tokens]\n",
    "lemmatized_tokens"
   ]
  },
  {
   "cell_type": "code",
   "execution_count": 88,
   "id": "46cd68fd-d277-41aa-9640-c4234ed4af1e",
   "metadata": {},
   "outputs": [
    {
     "data": {
      "text/plain": [
       "[['wow', 'loved', 'place'],\n",
       " ['crust', 'good'],\n",
       " ['tasty', 'texture', 'nasty'],\n",
       " ['stopped', 'late', 'may', 'bank', 'holiday'],\n",
       " ['selection', 'menu', 'great', 'wer']]"
      ]
     },
     "execution_count": 88,
     "metadata": {},
     "output_type": "execute_result"
    }
   ],
   "source": [
    "\n",
    "# Lemmatize the text\n",
    "lemmatized_text = [[lm.lemmatize(word) for word in text] for text in filtered_data]\n",
    "lemmatized_text"
   ]
  },
  {
   "cell_type": "markdown",
   "id": "d78df4b2-f59e-4bbf-b7fd-3e4ff86a69e6",
   "metadata": {},
   "source": [
    "### 7. Stemmatization"
   ]
  },
  {
   "cell_type": "code",
   "execution_count": 91,
   "id": "481d9748-57de-48e1-a69c-9163f5d68325",
   "metadata": {},
   "outputs": [
    {
     "data": {
      "text/plain": [
       "[['wow', 'love', 'place'],\n",
       " ['crust', 'good'],\n",
       " ['tasti', 'textur', 'nasti'],\n",
       " ['stop', 'late', 'may', 'bank', 'holiday'],\n",
       " ['select', 'menu', 'great', 'wer']]"
      ]
     },
     "execution_count": 91,
     "metadata": {},
     "output_type": "execute_result"
    }
   ],
   "source": [
    "stemmer = PorterStemmer()\n",
    "stemmed_text= [[stemmer.stem(word) for word in text] for text in lemmatized_text]\n",
    "stemmed_text"
   ]
  },
  {
   "cell_type": "markdown",
   "id": "17ddcf50",
   "metadata": {},
   "source": [
    "#### Create a vocabulary"
   ]
  },
  {
   "cell_type": "code",
   "execution_count": 92,
   "id": "78c4552b",
   "metadata": {},
   "outputs": [
    {
     "data": {
      "text/plain": [
       "{'bank',\n",
       " 'crust',\n",
       " 'good',\n",
       " 'great',\n",
       " 'holiday',\n",
       " 'late',\n",
       " 'love',\n",
       " 'may',\n",
       " 'menu',\n",
       " 'nasti',\n",
       " 'place',\n",
       " 'select',\n",
       " 'stop',\n",
       " 'tasti',\n",
       " 'textur',\n",
       " 'wer',\n",
       " 'wow'}"
      ]
     },
     "execution_count": 92,
     "metadata": {},
     "output_type": "execute_result"
    }
   ],
   "source": [
    "# Create a vocabulary\n",
    "vocabulary = set([word for text in stemmed_text for word in text])\n",
    "vocabulary"
   ]
  },
  {
   "cell_type": "markdown",
   "id": "c9b8bfd5",
   "metadata": {},
   "source": [
    "### Import "
   ]
  },
  {
   "cell_type": "code",
   "execution_count": 96,
   "id": "2395a5bc",
   "metadata": {},
   "outputs": [
    {
     "data": {
      "text/plain": [
       "0                               Wow... Loved this place.\n",
       "1                                     Crust is not good.\n",
       "2              Not tasty and the texture was just nasty.\n",
       "3      Stopped by during the late May bank holiday of...\n",
       "4      The selection on the menu was great and so wer...\n",
       "                             ...                        \n",
       "995    I think food should have flavor and texture an...\n",
       "996                             Appetite instantly gone.\n",
       "997    Overall I was not impressed and would not go b...\n",
       "998    The whole experience was underwhelming, and I ...\n",
       "999    Then, as if I hadn't wasted enough of my life ...\n",
       "Name: Review, Length: 1000, dtype: object"
      ]
     },
     "execution_count": 96,
     "metadata": {},
     "output_type": "execute_result"
    }
   ],
   "source": [
    "df = pd.read_csv('./data/Restaurant_Reviews.tsv', delimiter = '\\t')\n",
    "df['Review']"
   ]
  },
  {
   "cell_type": "code",
   "execution_count": 99,
   "id": "2703cd14",
   "metadata": {},
   "outputs": [],
   "source": [
    "# Function to preprocess text\n",
    "def preprocess_text(text):\n",
    "    # Convert text to lowercase\n",
    "    text = text.lower()\n",
    "    # Remove punctuation\n",
    "    text = text.translate(str.maketrans('', '', string.punctuation))\n",
    "    # Tokenize the text\n",
    "    tokens = word_tokenize(text)\n",
    "    # Remove stopwords\n",
    "    stop_words = set(stopwords.words('english'))\n",
    "    tokens = [word for word in tokens if word not in stop_words]\n",
    "    return ' '.join(tokens)"
   ]
  },
  {
   "cell_type": "code",
   "execution_count": 100,
   "id": "2a781087",
   "metadata": {},
   "outputs": [
    {
     "data": {
      "text/plain": [
       "0                                        wow loved place\n",
       "1                                             crust good\n",
       "2                                    tasty texture nasty\n",
       "3      stopped late may bank holiday rick steve recom...\n",
       "4                            selection menu great prices\n",
       "                             ...                        \n",
       "995                    think food flavor texture lacking\n",
       "996                              appetite instantly gone\n",
       "997                      overall impressed would go back\n",
       "998    whole experience underwhelming think well go n...\n",
       "999    hadnt wasted enough life poured salt wound dra...\n",
       "Name: Review, Length: 1000, dtype: object"
      ]
     },
     "execution_count": 100,
     "metadata": {},
     "output_type": "execute_result"
    }
   ],
   "source": [
    "# Preprocess the data\n",
    "data_series_preprocessed = df['Review'].apply(preprocess_text)\n",
    "data_series_preprocessed"
   ]
  },
  {
   "cell_type": "markdown",
   "id": "74e90b5f",
   "metadata": {},
   "source": [
    "*Polarity Score* - value ranging from -1 to 1, but also depends on the analysis tool or method used. Common ranges include: -1 to 1, -100 to 100, or 0 to 1."
   ]
  },
  {
   "cell_type": "code",
   "execution_count": 101,
   "id": "45c78fbf",
   "metadata": {},
   "outputs": [
    {
     "data": {
      "text/plain": [
       "0      0.8271\n",
       "1      0.4404\n",
       "2     -0.5574\n",
       "3      0.6908\n",
       "4      0.6249\n",
       "        ...  \n",
       "995    0.0000\n",
       "996    0.0000\n",
       "997    0.4767\n",
       "998    0.2732\n",
       "999    0.3875\n",
       "Name: Review, Length: 1000, dtype: float64"
      ]
     },
     "execution_count": 101,
     "metadata": {},
     "output_type": "execute_result"
    }
   ],
   "source": [
    "# Initialize sentiment analyzer\n",
    "sid = SentimentIntensityAnalyzer()\n",
    "\n",
    "# Perform sentiment analysis\n",
    "sentiments = data_series_preprocessed.apply(\n",
    "    lambda x: sid.polarity_scores(x)['compound']\n",
    ")\n",
    "sentiments"
   ]
  },
  {
   "cell_type": "code",
   "execution_count": 102,
   "id": "e0efab31",
   "metadata": {},
   "outputs": [],
   "source": [
    "# Classify sentiment as positive or negative based on compound score\n",
    "sentiment_class = sentiments.apply(\n",
    "    lambda x: 'positive' if x > 0 else ('neutral' if x == 0 else 'negative')\n",
    ")"
   ]
  },
  {
   "cell_type": "code",
   "execution_count": 103,
   "id": "15c5a4f0",
   "metadata": {},
   "outputs": [
    {
     "data": {
      "text/html": [
       "<div>\n",
       "<style scoped>\n",
       "    .dataframe tbody tr th:only-of-type {\n",
       "        vertical-align: middle;\n",
       "    }\n",
       "\n",
       "    .dataframe tbody tr th {\n",
       "        vertical-align: top;\n",
       "    }\n",
       "\n",
       "    .dataframe thead th {\n",
       "        text-align: right;\n",
       "    }\n",
       "</style>\n",
       "<table border=\"1\" class=\"dataframe\">\n",
       "  <thead>\n",
       "    <tr style=\"text-align: right;\">\n",
       "      <th></th>\n",
       "      <th>Review</th>\n",
       "      <th>Sentiment</th>\n",
       "    </tr>\n",
       "  </thead>\n",
       "  <tbody>\n",
       "    <tr>\n",
       "      <th>0</th>\n",
       "      <td>Wow... Loved this place.</td>\n",
       "      <td>positive</td>\n",
       "    </tr>\n",
       "    <tr>\n",
       "      <th>1</th>\n",
       "      <td>Crust is not good.</td>\n",
       "      <td>positive</td>\n",
       "    </tr>\n",
       "    <tr>\n",
       "      <th>2</th>\n",
       "      <td>Not tasty and the texture was just nasty.</td>\n",
       "      <td>negative</td>\n",
       "    </tr>\n",
       "    <tr>\n",
       "      <th>3</th>\n",
       "      <td>Stopped by during the late May bank holiday of...</td>\n",
       "      <td>positive</td>\n",
       "    </tr>\n",
       "    <tr>\n",
       "      <th>4</th>\n",
       "      <td>The selection on the menu was great and so wer...</td>\n",
       "      <td>positive</td>\n",
       "    </tr>\n",
       "    <tr>\n",
       "      <th>...</th>\n",
       "      <td>...</td>\n",
       "      <td>...</td>\n",
       "    </tr>\n",
       "    <tr>\n",
       "      <th>995</th>\n",
       "      <td>I think food should have flavor and texture an...</td>\n",
       "      <td>neutral</td>\n",
       "    </tr>\n",
       "    <tr>\n",
       "      <th>996</th>\n",
       "      <td>Appetite instantly gone.</td>\n",
       "      <td>neutral</td>\n",
       "    </tr>\n",
       "    <tr>\n",
       "      <th>997</th>\n",
       "      <td>Overall I was not impressed and would not go b...</td>\n",
       "      <td>positive</td>\n",
       "    </tr>\n",
       "    <tr>\n",
       "      <th>998</th>\n",
       "      <td>The whole experience was underwhelming, and I ...</td>\n",
       "      <td>positive</td>\n",
       "    </tr>\n",
       "    <tr>\n",
       "      <th>999</th>\n",
       "      <td>Then, as if I hadn't wasted enough of my life ...</td>\n",
       "      <td>positive</td>\n",
       "    </tr>\n",
       "  </tbody>\n",
       "</table>\n",
       "<p>1000 rows × 2 columns</p>\n",
       "</div>"
      ],
      "text/plain": [
       "                                                Review Sentiment\n",
       "0                             Wow... Loved this place.  positive\n",
       "1                                   Crust is not good.  positive\n",
       "2            Not tasty and the texture was just nasty.  negative\n",
       "3    Stopped by during the late May bank holiday of...  positive\n",
       "4    The selection on the menu was great and so wer...  positive\n",
       "..                                                 ...       ...\n",
       "995  I think food should have flavor and texture an...   neutral\n",
       "996                           Appetite instantly gone.   neutral\n",
       "997  Overall I was not impressed and would not go b...  positive\n",
       "998  The whole experience was underwhelming, and I ...  positive\n",
       "999  Then, as if I hadn't wasted enough of my life ...  positive\n",
       "\n",
       "[1000 rows x 2 columns]"
      ]
     },
     "execution_count": 103,
     "metadata": {},
     "output_type": "execute_result"
    }
   ],
   "source": [
    "# Add sentiment scores to the DataFrame\n",
    "df_with_sentiment = pd.DataFrame({\n",
    "    'Review': df['Review'], \n",
    "     'Sentiment': sentiment_class\n",
    "})\n",
    "\n",
    "# Display the DataFrame with sentiment scores\n",
    "df_with_sentiment"
   ]
  },
  {
   "cell_type": "markdown",
   "id": "b44d4ebe",
   "metadata": {},
   "source": [
    "### Naives Bayes Approach"
   ]
  },
  {
   "cell_type": "markdown",
   "id": "81cee99f",
   "metadata": {},
   "source": [
    "### Prepare Data"
   ]
  },
  {
   "cell_type": "code",
   "execution_count": 104,
   "id": "09237445",
   "metadata": {},
   "outputs": [
    {
     "data": {
      "text/html": [
       "<div>\n",
       "<style scoped>\n",
       "    .dataframe tbody tr th:only-of-type {\n",
       "        vertical-align: middle;\n",
       "    }\n",
       "\n",
       "    .dataframe tbody tr th {\n",
       "        vertical-align: top;\n",
       "    }\n",
       "\n",
       "    .dataframe thead th {\n",
       "        text-align: right;\n",
       "    }\n",
       "</style>\n",
       "<table border=\"1\" class=\"dataframe\">\n",
       "  <thead>\n",
       "    <tr style=\"text-align: right;\">\n",
       "      <th></th>\n",
       "      <th>Review</th>\n",
       "      <th>Liked</th>\n",
       "    </tr>\n",
       "  </thead>\n",
       "  <tbody>\n",
       "    <tr>\n",
       "      <th>0</th>\n",
       "      <td>Wow... Loved this place.</td>\n",
       "      <td>1</td>\n",
       "    </tr>\n",
       "    <tr>\n",
       "      <th>1</th>\n",
       "      <td>Crust is not good.</td>\n",
       "      <td>0</td>\n",
       "    </tr>\n",
       "    <tr>\n",
       "      <th>2</th>\n",
       "      <td>Not tasty and the texture was just nasty.</td>\n",
       "      <td>0</td>\n",
       "    </tr>\n",
       "    <tr>\n",
       "      <th>3</th>\n",
       "      <td>Stopped by during the late May bank holiday of...</td>\n",
       "      <td>1</td>\n",
       "    </tr>\n",
       "    <tr>\n",
       "      <th>4</th>\n",
       "      <td>The selection on the menu was great and so wer...</td>\n",
       "      <td>1</td>\n",
       "    </tr>\n",
       "    <tr>\n",
       "      <th>...</th>\n",
       "      <td>...</td>\n",
       "      <td>...</td>\n",
       "    </tr>\n",
       "    <tr>\n",
       "      <th>995</th>\n",
       "      <td>I think food should have flavor and texture an...</td>\n",
       "      <td>0</td>\n",
       "    </tr>\n",
       "    <tr>\n",
       "      <th>996</th>\n",
       "      <td>Appetite instantly gone.</td>\n",
       "      <td>0</td>\n",
       "    </tr>\n",
       "    <tr>\n",
       "      <th>997</th>\n",
       "      <td>Overall I was not impressed and would not go b...</td>\n",
       "      <td>0</td>\n",
       "    </tr>\n",
       "    <tr>\n",
       "      <th>998</th>\n",
       "      <td>The whole experience was underwhelming, and I ...</td>\n",
       "      <td>0</td>\n",
       "    </tr>\n",
       "    <tr>\n",
       "      <th>999</th>\n",
       "      <td>Then, as if I hadn't wasted enough of my life ...</td>\n",
       "      <td>0</td>\n",
       "    </tr>\n",
       "  </tbody>\n",
       "</table>\n",
       "<p>1000 rows × 2 columns</p>\n",
       "</div>"
      ],
      "text/plain": [
       "                                                Review  Liked\n",
       "0                             Wow... Loved this place.      1\n",
       "1                                   Crust is not good.      0\n",
       "2            Not tasty and the texture was just nasty.      0\n",
       "3    Stopped by during the late May bank holiday of...      1\n",
       "4    The selection on the menu was great and so wer...      1\n",
       "..                                                 ...    ...\n",
       "995  I think food should have flavor and texture an...      0\n",
       "996                           Appetite instantly gone.      0\n",
       "997  Overall I was not impressed and would not go b...      0\n",
       "998  The whole experience was underwhelming, and I ...      0\n",
       "999  Then, as if I hadn't wasted enough of my life ...      0\n",
       "\n",
       "[1000 rows x 2 columns]"
      ]
     },
     "execution_count": 104,
     "metadata": {},
     "output_type": "execute_result"
    }
   ],
   "source": [
    "dataset = pd.read_csv('./data/Restaurant_Reviews.tsv', delimiter = '\\t', quoting = 3)\n",
    "dataset"
   ]
  },
  {
   "cell_type": "code",
   "execution_count": 105,
   "id": "c574fbac",
   "metadata": {},
   "outputs": [],
   "source": [
    "corpus = []\n",
    "for i in range(0, 1000):\n",
    "  review = re.sub('[^a-zA-Z]', ' ', df['Review'][i])\n",
    "  review = review.lower()\n",
    "  review = review.split()\n",
    "  ps = PorterStemmer()\n",
    "  all_stopwords = stopwords.words('english')\n",
    "  all_stopwords.remove('not')\n",
    "  review = [ps.stem(word) for word in review if not word in set(all_stopwords)]\n",
    "  review = ' '.join(review)\n",
    "  corpus.append(review)"
   ]
  },
  {
   "cell_type": "code",
   "execution_count": 109,
   "id": "bbe835aa",
   "metadata": {},
   "outputs": [],
   "source": [
    "from sklearn.feature_extraction.text import CountVectorizer\n",
    "\n",
    "cv = CountVectorizer(max_features = 1500)\n",
    "\n",
    "# Separate features from labels\n",
    "X = cv.fit_transform(corpus).toarray()\n",
    "y = dataset.iloc[:, -1].values"
   ]
  },
  {
   "cell_type": "markdown",
   "id": "2d729677",
   "metadata": {},
   "source": [
    "### Split"
   ]
  },
  {
   "cell_type": "code",
   "execution_count": 110,
   "id": "4ceed6d9",
   "metadata": {},
   "outputs": [],
   "source": [
    "from sklearn.model_selection import train_test_split\n",
    "X_train, X_test, y_train, y_test = train_test_split(X, y, test_size = 0.20, random_state = 42)"
   ]
  },
  {
   "cell_type": "markdown",
   "id": "616d6a44",
   "metadata": {},
   "source": [
    "### Build Model"
   ]
  },
  {
   "cell_type": "code",
   "execution_count": 111,
   "id": "3284e09b",
   "metadata": {},
   "outputs": [],
   "source": [
    "from sklearn.naive_bayes import BernoulliNB\n",
    "from sklearn.pipeline import make_pipeline\n",
    "from sklearn.metrics import accuracy_score"
   ]
  },
  {
   "cell_type": "code",
   "execution_count": 112,
   "id": "457f9df9",
   "metadata": {},
   "outputs": [
    {
     "data": {
      "text/html": [
       "<style>#sk-container-id-1 {\n",
       "  /* Definition of color scheme common for light and dark mode */\n",
       "  --sklearn-color-text: black;\n",
       "  --sklearn-color-line: gray;\n",
       "  /* Definition of color scheme for unfitted estimators */\n",
       "  --sklearn-color-unfitted-level-0: #fff5e6;\n",
       "  --sklearn-color-unfitted-level-1: #f6e4d2;\n",
       "  --sklearn-color-unfitted-level-2: #ffe0b3;\n",
       "  --sklearn-color-unfitted-level-3: chocolate;\n",
       "  /* Definition of color scheme for fitted estimators */\n",
       "  --sklearn-color-fitted-level-0: #f0f8ff;\n",
       "  --sklearn-color-fitted-level-1: #d4ebff;\n",
       "  --sklearn-color-fitted-level-2: #b3dbfd;\n",
       "  --sklearn-color-fitted-level-3: cornflowerblue;\n",
       "\n",
       "  /* Specific color for light theme */\n",
       "  --sklearn-color-text-on-default-background: var(--sg-text-color, var(--theme-code-foreground, var(--jp-content-font-color1, black)));\n",
       "  --sklearn-color-background: var(--sg-background-color, var(--theme-background, var(--jp-layout-color0, white)));\n",
       "  --sklearn-color-border-box: var(--sg-text-color, var(--theme-code-foreground, var(--jp-content-font-color1, black)));\n",
       "  --sklearn-color-icon: #696969;\n",
       "\n",
       "  @media (prefers-color-scheme: dark) {\n",
       "    /* Redefinition of color scheme for dark theme */\n",
       "    --sklearn-color-text-on-default-background: var(--sg-text-color, var(--theme-code-foreground, var(--jp-content-font-color1, white)));\n",
       "    --sklearn-color-background: var(--sg-background-color, var(--theme-background, var(--jp-layout-color0, #111)));\n",
       "    --sklearn-color-border-box: var(--sg-text-color, var(--theme-code-foreground, var(--jp-content-font-color1, white)));\n",
       "    --sklearn-color-icon: #878787;\n",
       "  }\n",
       "}\n",
       "\n",
       "#sk-container-id-1 {\n",
       "  color: var(--sklearn-color-text);\n",
       "}\n",
       "\n",
       "#sk-container-id-1 pre {\n",
       "  padding: 0;\n",
       "}\n",
       "\n",
       "#sk-container-id-1 input.sk-hidden--visually {\n",
       "  border: 0;\n",
       "  clip: rect(1px 1px 1px 1px);\n",
       "  clip: rect(1px, 1px, 1px, 1px);\n",
       "  height: 1px;\n",
       "  margin: -1px;\n",
       "  overflow: hidden;\n",
       "  padding: 0;\n",
       "  position: absolute;\n",
       "  width: 1px;\n",
       "}\n",
       "\n",
       "#sk-container-id-1 div.sk-dashed-wrapped {\n",
       "  border: 1px dashed var(--sklearn-color-line);\n",
       "  margin: 0 0.4em 0.5em 0.4em;\n",
       "  box-sizing: border-box;\n",
       "  padding-bottom: 0.4em;\n",
       "  background-color: var(--sklearn-color-background);\n",
       "}\n",
       "\n",
       "#sk-container-id-1 div.sk-container {\n",
       "  /* jupyter's `normalize.less` sets `[hidden] { display: none; }`\n",
       "     but bootstrap.min.css set `[hidden] { display: none !important; }`\n",
       "     so we also need the `!important` here to be able to override the\n",
       "     default hidden behavior on the sphinx rendered scikit-learn.org.\n",
       "     See: https://github.com/scikit-learn/scikit-learn/issues/21755 */\n",
       "  display: inline-block !important;\n",
       "  position: relative;\n",
       "}\n",
       "\n",
       "#sk-container-id-1 div.sk-text-repr-fallback {\n",
       "  display: none;\n",
       "}\n",
       "\n",
       "div.sk-parallel-item,\n",
       "div.sk-serial,\n",
       "div.sk-item {\n",
       "  /* draw centered vertical line to link estimators */\n",
       "  background-image: linear-gradient(var(--sklearn-color-text-on-default-background), var(--sklearn-color-text-on-default-background));\n",
       "  background-size: 2px 100%;\n",
       "  background-repeat: no-repeat;\n",
       "  background-position: center center;\n",
       "}\n",
       "\n",
       "/* Parallel-specific style estimator block */\n",
       "\n",
       "#sk-container-id-1 div.sk-parallel-item::after {\n",
       "  content: \"\";\n",
       "  width: 100%;\n",
       "  border-bottom: 2px solid var(--sklearn-color-text-on-default-background);\n",
       "  flex-grow: 1;\n",
       "}\n",
       "\n",
       "#sk-container-id-1 div.sk-parallel {\n",
       "  display: flex;\n",
       "  align-items: stretch;\n",
       "  justify-content: center;\n",
       "  background-color: var(--sklearn-color-background);\n",
       "  position: relative;\n",
       "}\n",
       "\n",
       "#sk-container-id-1 div.sk-parallel-item {\n",
       "  display: flex;\n",
       "  flex-direction: column;\n",
       "}\n",
       "\n",
       "#sk-container-id-1 div.sk-parallel-item:first-child::after {\n",
       "  align-self: flex-end;\n",
       "  width: 50%;\n",
       "}\n",
       "\n",
       "#sk-container-id-1 div.sk-parallel-item:last-child::after {\n",
       "  align-self: flex-start;\n",
       "  width: 50%;\n",
       "}\n",
       "\n",
       "#sk-container-id-1 div.sk-parallel-item:only-child::after {\n",
       "  width: 0;\n",
       "}\n",
       "\n",
       "/* Serial-specific style estimator block */\n",
       "\n",
       "#sk-container-id-1 div.sk-serial {\n",
       "  display: flex;\n",
       "  flex-direction: column;\n",
       "  align-items: center;\n",
       "  background-color: var(--sklearn-color-background);\n",
       "  padding-right: 1em;\n",
       "  padding-left: 1em;\n",
       "}\n",
       "\n",
       "\n",
       "/* Toggleable style: style used for estimator/Pipeline/ColumnTransformer box that is\n",
       "clickable and can be expanded/collapsed.\n",
       "- Pipeline and ColumnTransformer use this feature and define the default style\n",
       "- Estimators will overwrite some part of the style using the `sk-estimator` class\n",
       "*/\n",
       "\n",
       "/* Pipeline and ColumnTransformer style (default) */\n",
       "\n",
       "#sk-container-id-1 div.sk-toggleable {\n",
       "  /* Default theme specific background. It is overwritten whether we have a\n",
       "  specific estimator or a Pipeline/ColumnTransformer */\n",
       "  background-color: var(--sklearn-color-background);\n",
       "}\n",
       "\n",
       "/* Toggleable label */\n",
       "#sk-container-id-1 label.sk-toggleable__label {\n",
       "  cursor: pointer;\n",
       "  display: block;\n",
       "  width: 100%;\n",
       "  margin-bottom: 0;\n",
       "  padding: 0.5em;\n",
       "  box-sizing: border-box;\n",
       "  text-align: center;\n",
       "}\n",
       "\n",
       "#sk-container-id-1 label.sk-toggleable__label-arrow:before {\n",
       "  /* Arrow on the left of the label */\n",
       "  content: \"▸\";\n",
       "  float: left;\n",
       "  margin-right: 0.25em;\n",
       "  color: var(--sklearn-color-icon);\n",
       "}\n",
       "\n",
       "#sk-container-id-1 label.sk-toggleable__label-arrow:hover:before {\n",
       "  color: var(--sklearn-color-text);\n",
       "}\n",
       "\n",
       "/* Toggleable content - dropdown */\n",
       "\n",
       "#sk-container-id-1 div.sk-toggleable__content {\n",
       "  max-height: 0;\n",
       "  max-width: 0;\n",
       "  overflow: hidden;\n",
       "  text-align: left;\n",
       "  /* unfitted */\n",
       "  background-color: var(--sklearn-color-unfitted-level-0);\n",
       "}\n",
       "\n",
       "#sk-container-id-1 div.sk-toggleable__content.fitted {\n",
       "  /* fitted */\n",
       "  background-color: var(--sklearn-color-fitted-level-0);\n",
       "}\n",
       "\n",
       "#sk-container-id-1 div.sk-toggleable__content pre {\n",
       "  margin: 0.2em;\n",
       "  border-radius: 0.25em;\n",
       "  color: var(--sklearn-color-text);\n",
       "  /* unfitted */\n",
       "  background-color: var(--sklearn-color-unfitted-level-0);\n",
       "}\n",
       "\n",
       "#sk-container-id-1 div.sk-toggleable__content.fitted pre {\n",
       "  /* unfitted */\n",
       "  background-color: var(--sklearn-color-fitted-level-0);\n",
       "}\n",
       "\n",
       "#sk-container-id-1 input.sk-toggleable__control:checked~div.sk-toggleable__content {\n",
       "  /* Expand drop-down */\n",
       "  max-height: 200px;\n",
       "  max-width: 100%;\n",
       "  overflow: auto;\n",
       "}\n",
       "\n",
       "#sk-container-id-1 input.sk-toggleable__control:checked~label.sk-toggleable__label-arrow:before {\n",
       "  content: \"▾\";\n",
       "}\n",
       "\n",
       "/* Pipeline/ColumnTransformer-specific style */\n",
       "\n",
       "#sk-container-id-1 div.sk-label input.sk-toggleable__control:checked~label.sk-toggleable__label {\n",
       "  color: var(--sklearn-color-text);\n",
       "  background-color: var(--sklearn-color-unfitted-level-2);\n",
       "}\n",
       "\n",
       "#sk-container-id-1 div.sk-label.fitted input.sk-toggleable__control:checked~label.sk-toggleable__label {\n",
       "  background-color: var(--sklearn-color-fitted-level-2);\n",
       "}\n",
       "\n",
       "/* Estimator-specific style */\n",
       "\n",
       "/* Colorize estimator box */\n",
       "#sk-container-id-1 div.sk-estimator input.sk-toggleable__control:checked~label.sk-toggleable__label {\n",
       "  /* unfitted */\n",
       "  background-color: var(--sklearn-color-unfitted-level-2);\n",
       "}\n",
       "\n",
       "#sk-container-id-1 div.sk-estimator.fitted input.sk-toggleable__control:checked~label.sk-toggleable__label {\n",
       "  /* fitted */\n",
       "  background-color: var(--sklearn-color-fitted-level-2);\n",
       "}\n",
       "\n",
       "#sk-container-id-1 div.sk-label label.sk-toggleable__label,\n",
       "#sk-container-id-1 div.sk-label label {\n",
       "  /* The background is the default theme color */\n",
       "  color: var(--sklearn-color-text-on-default-background);\n",
       "}\n",
       "\n",
       "/* On hover, darken the color of the background */\n",
       "#sk-container-id-1 div.sk-label:hover label.sk-toggleable__label {\n",
       "  color: var(--sklearn-color-text);\n",
       "  background-color: var(--sklearn-color-unfitted-level-2);\n",
       "}\n",
       "\n",
       "/* Label box, darken color on hover, fitted */\n",
       "#sk-container-id-1 div.sk-label.fitted:hover label.sk-toggleable__label.fitted {\n",
       "  color: var(--sklearn-color-text);\n",
       "  background-color: var(--sklearn-color-fitted-level-2);\n",
       "}\n",
       "\n",
       "/* Estimator label */\n",
       "\n",
       "#sk-container-id-1 div.sk-label label {\n",
       "  font-family: monospace;\n",
       "  font-weight: bold;\n",
       "  display: inline-block;\n",
       "  line-height: 1.2em;\n",
       "}\n",
       "\n",
       "#sk-container-id-1 div.sk-label-container {\n",
       "  text-align: center;\n",
       "}\n",
       "\n",
       "/* Estimator-specific */\n",
       "#sk-container-id-1 div.sk-estimator {\n",
       "  font-family: monospace;\n",
       "  border: 1px dotted var(--sklearn-color-border-box);\n",
       "  border-radius: 0.25em;\n",
       "  box-sizing: border-box;\n",
       "  margin-bottom: 0.5em;\n",
       "  /* unfitted */\n",
       "  background-color: var(--sklearn-color-unfitted-level-0);\n",
       "}\n",
       "\n",
       "#sk-container-id-1 div.sk-estimator.fitted {\n",
       "  /* fitted */\n",
       "  background-color: var(--sklearn-color-fitted-level-0);\n",
       "}\n",
       "\n",
       "/* on hover */\n",
       "#sk-container-id-1 div.sk-estimator:hover {\n",
       "  /* unfitted */\n",
       "  background-color: var(--sklearn-color-unfitted-level-2);\n",
       "}\n",
       "\n",
       "#sk-container-id-1 div.sk-estimator.fitted:hover {\n",
       "  /* fitted */\n",
       "  background-color: var(--sklearn-color-fitted-level-2);\n",
       "}\n",
       "\n",
       "/* Specification for estimator info (e.g. \"i\" and \"?\") */\n",
       "\n",
       "/* Common style for \"i\" and \"?\" */\n",
       "\n",
       ".sk-estimator-doc-link,\n",
       "a:link.sk-estimator-doc-link,\n",
       "a:visited.sk-estimator-doc-link {\n",
       "  float: right;\n",
       "  font-size: smaller;\n",
       "  line-height: 1em;\n",
       "  font-family: monospace;\n",
       "  background-color: var(--sklearn-color-background);\n",
       "  border-radius: 1em;\n",
       "  height: 1em;\n",
       "  width: 1em;\n",
       "  text-decoration: none !important;\n",
       "  margin-left: 1ex;\n",
       "  /* unfitted */\n",
       "  border: var(--sklearn-color-unfitted-level-1) 1pt solid;\n",
       "  color: var(--sklearn-color-unfitted-level-1);\n",
       "}\n",
       "\n",
       ".sk-estimator-doc-link.fitted,\n",
       "a:link.sk-estimator-doc-link.fitted,\n",
       "a:visited.sk-estimator-doc-link.fitted {\n",
       "  /* fitted */\n",
       "  border: var(--sklearn-color-fitted-level-1) 1pt solid;\n",
       "  color: var(--sklearn-color-fitted-level-1);\n",
       "}\n",
       "\n",
       "/* On hover */\n",
       "div.sk-estimator:hover .sk-estimator-doc-link:hover,\n",
       ".sk-estimator-doc-link:hover,\n",
       "div.sk-label-container:hover .sk-estimator-doc-link:hover,\n",
       ".sk-estimator-doc-link:hover {\n",
       "  /* unfitted */\n",
       "  background-color: var(--sklearn-color-unfitted-level-3);\n",
       "  color: var(--sklearn-color-background);\n",
       "  text-decoration: none;\n",
       "}\n",
       "\n",
       "div.sk-estimator.fitted:hover .sk-estimator-doc-link.fitted:hover,\n",
       ".sk-estimator-doc-link.fitted:hover,\n",
       "div.sk-label-container:hover .sk-estimator-doc-link.fitted:hover,\n",
       ".sk-estimator-doc-link.fitted:hover {\n",
       "  /* fitted */\n",
       "  background-color: var(--sklearn-color-fitted-level-3);\n",
       "  color: var(--sklearn-color-background);\n",
       "  text-decoration: none;\n",
       "}\n",
       "\n",
       "/* Span, style for the box shown on hovering the info icon */\n",
       ".sk-estimator-doc-link span {\n",
       "  display: none;\n",
       "  z-index: 9999;\n",
       "  position: relative;\n",
       "  font-weight: normal;\n",
       "  right: .2ex;\n",
       "  padding: .5ex;\n",
       "  margin: .5ex;\n",
       "  width: min-content;\n",
       "  min-width: 20ex;\n",
       "  max-width: 50ex;\n",
       "  color: var(--sklearn-color-text);\n",
       "  box-shadow: 2pt 2pt 4pt #999;\n",
       "  /* unfitted */\n",
       "  background: var(--sklearn-color-unfitted-level-0);\n",
       "  border: .5pt solid var(--sklearn-color-unfitted-level-3);\n",
       "}\n",
       "\n",
       ".sk-estimator-doc-link.fitted span {\n",
       "  /* fitted */\n",
       "  background: var(--sklearn-color-fitted-level-0);\n",
       "  border: var(--sklearn-color-fitted-level-3);\n",
       "}\n",
       "\n",
       ".sk-estimator-doc-link:hover span {\n",
       "  display: block;\n",
       "}\n",
       "\n",
       "/* \"?\"-specific style due to the `<a>` HTML tag */\n",
       "\n",
       "#sk-container-id-1 a.estimator_doc_link {\n",
       "  float: right;\n",
       "  font-size: 1rem;\n",
       "  line-height: 1em;\n",
       "  font-family: monospace;\n",
       "  background-color: var(--sklearn-color-background);\n",
       "  border-radius: 1rem;\n",
       "  height: 1rem;\n",
       "  width: 1rem;\n",
       "  text-decoration: none;\n",
       "  /* unfitted */\n",
       "  color: var(--sklearn-color-unfitted-level-1);\n",
       "  border: var(--sklearn-color-unfitted-level-1) 1pt solid;\n",
       "}\n",
       "\n",
       "#sk-container-id-1 a.estimator_doc_link.fitted {\n",
       "  /* fitted */\n",
       "  border: var(--sklearn-color-fitted-level-1) 1pt solid;\n",
       "  color: var(--sklearn-color-fitted-level-1);\n",
       "}\n",
       "\n",
       "/* On hover */\n",
       "#sk-container-id-1 a.estimator_doc_link:hover {\n",
       "  /* unfitted */\n",
       "  background-color: var(--sklearn-color-unfitted-level-3);\n",
       "  color: var(--sklearn-color-background);\n",
       "  text-decoration: none;\n",
       "}\n",
       "\n",
       "#sk-container-id-1 a.estimator_doc_link.fitted:hover {\n",
       "  /* fitted */\n",
       "  background-color: var(--sklearn-color-fitted-level-3);\n",
       "}\n",
       "</style><div id=\"sk-container-id-1\" class=\"sk-top-container\"><div class=\"sk-text-repr-fallback\"><pre>BernoulliNB()</pre><b>In a Jupyter environment, please rerun this cell to show the HTML representation or trust the notebook. <br />On GitHub, the HTML representation is unable to render, please try loading this page with nbviewer.org.</b></div><div class=\"sk-container\" hidden><div class=\"sk-item\"><div class=\"sk-estimator fitted sk-toggleable\"><input class=\"sk-toggleable__control sk-hidden--visually\" id=\"sk-estimator-id-1\" type=\"checkbox\" checked><label for=\"sk-estimator-id-1\" class=\"sk-toggleable__label fitted sk-toggleable__label-arrow fitted\">&nbsp;&nbsp;BernoulliNB<a class=\"sk-estimator-doc-link fitted\" rel=\"noreferrer\" target=\"_blank\" href=\"https://scikit-learn.org/1.4/modules/generated/sklearn.naive_bayes.BernoulliNB.html\">?<span>Documentation for BernoulliNB</span></a><span class=\"sk-estimator-doc-link fitted\">i<span>Fitted</span></span></label><div class=\"sk-toggleable__content fitted\"><pre>BernoulliNB()</pre></div> </div></div></div></div>"
      ],
      "text/plain": [
       "BernoulliNB()"
      ]
     },
     "execution_count": 112,
     "metadata": {},
     "output_type": "execute_result"
    }
   ],
   "source": [
    "# Build model\n",
    "model = (\n",
    "    BernoulliNB()\n",
    "    )\n",
    "\n",
    "# Fit model\n",
    "model.fit(X_train, y_train)"
   ]
  },
  {
   "cell_type": "markdown",
   "id": "f5e29078",
   "metadata": {},
   "source": [
    "### Evaluate"
   ]
  },
  {
   "cell_type": "code",
   "execution_count": 121,
   "id": "263e5cdd",
   "metadata": {},
   "outputs": [
    {
     "name": "stdout",
     "output_type": "stream",
     "text": [
      "Accuracy: 74.00%\n"
     ]
    }
   ],
   "source": [
    "# Evaluate the model\n",
    "y_pred = model.predict(X_test)\n",
    "\n",
    "# Compute accuracy\n",
    "acc_score = accuracy_score(y_test, y_pred)\n",
    "print(f'Accuracy: {acc_score*100:.2f}%')"
   ]
  },
  {
   "cell_type": "code",
   "execution_count": 124,
   "id": "8093e90b",
   "metadata": {},
   "outputs": [
    {
     "name": "stdout",
     "output_type": "stream",
     "text": [
      "Sentiment: positive\n"
     ]
    }
   ],
   "source": [
    "# Make predictions on new dataset\n",
    "new_text = ['perfectly fine for me']\n",
    "\n",
    "new_vector = cv.transform(new_text)\n",
    "prediction = model.predict(new_vector)\n",
    "\n",
    "print(f'Sentiment: {'positive' if prediction > 0 else ('neutral' if prediction == 0 else 'negative')}')"
   ]
  },
  {
   "cell_type": "code",
   "execution_count": null,
   "id": "85a13236-a742-432d-8dfa-803319c6bcbb",
   "metadata": {},
   "outputs": [],
   "source": []
  }
 ],
 "metadata": {
  "kernelspec": {
   "display_name": "Python 3",
   "language": "python",
   "name": "python3"
  },
  "language_info": {
   "codemirror_mode": {
    "name": "ipython",
    "version": 3
   },
   "file_extension": ".py",
   "mimetype": "text/x-python",
   "name": "python",
   "nbconvert_exporter": "python",
   "pygments_lexer": "ipython3",
   "version": "3.11.7"
  }
 },
 "nbformat": 4,
 "nbformat_minor": 5
}
